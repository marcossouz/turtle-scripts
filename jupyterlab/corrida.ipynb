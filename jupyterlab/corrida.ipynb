{
 "cells": [
  {
   "cell_type": "code",
   "execution_count": 1,
   "id": "2a0a6c27",
   "metadata": {},
   "outputs": [],
   "source": [
    "import turtle\n",
    "import random"
   ]
  },
  {
   "cell_type": "code",
   "execution_count": 2,
   "id": "98c959a4",
   "metadata": {},
   "outputs": [],
   "source": [
    "# competidores\n",
    "alex = turtle.Turtle()\n",
    "blex = turtle.Turtle()\n",
    "clex = turtle.Turtle()\n",
    "\n",
    "# juiz\n",
    "juiz = turtle.Turtle()"
   ]
  },
  {
   "cell_type": "code",
   "execution_count": 3,
   "id": "e9532d95",
   "metadata": {},
   "outputs": [],
   "source": [
    "#numero de passos\n",
    "passos = 200"
   ]
  },
  {
   "cell_type": "code",
   "execution_count": 4,
   "id": "47319076",
   "metadata": {},
   "outputs": [],
   "source": [
    "# config juiz\n",
    "juiz.pu()\n",
    "juiz.setpos(200, 100)\n",
    "juiz.rt(90)\n",
    "juiz.pd()\n",
    "juiz.fd(200)\n",
    "juiz.rt(180)"
   ]
  },
  {
   "cell_type": "code",
   "execution_count": 5,
   "id": "fea6f66f",
   "metadata": {},
   "outputs": [],
   "source": [
    "#reset()\n",
    "alex.reset()\n",
    "blex.reset()\n",
    "clex.reset()\n",
    "\n",
    "#contadores\n",
    "n_venc = 0\n",
    "alex_passos = 0\n",
    "blex_passos = 0\n",
    "clex_passos = 0"
   ]
  },
  {
   "cell_type": "code",
   "execution_count": 6,
   "id": "a39339a8",
   "metadata": {},
   "outputs": [],
   "source": [
    "#posionando os competidores\n",
    "alex.pu()\n",
    "alex.setpos(0, 50)\n",
    "alex.pd()\n",
    "\n",
    "clex.pu()\n",
    "clex.setpos(0, -50)\n",
    "clex.pd()"
   ]
  },
  {
   "cell_type": "code",
   "execution_count": 7,
   "id": "9c483d25",
   "metadata": {},
   "outputs": [],
   "source": [
    "#colors\n",
    "alex.color('green')\n",
    "blex.color('blue')\n",
    "clex.color('red')"
   ]
  },
  {
   "cell_type": "code",
   "execution_count": 8,
   "id": "abb6316c",
   "metadata": {},
   "outputs": [],
   "source": [
    "#aparencia\n",
    "alex.shape('turtle')\n",
    "blex.shape('turtle')\n",
    "clex.shape('turtle')"
   ]
  },
  {
   "cell_type": "code",
   "execution_count": 9,
   "id": "c7658c46",
   "metadata": {},
   "outputs": [],
   "source": [
    "#largura da linha\n",
    "alex.pensize(5)\n",
    "blex.pensize(5)\n",
    "clex.pensize(5)"
   ]
  },
  {
   "cell_type": "code",
   "execution_count": 10,
   "id": "cbc87f58",
   "metadata": {},
   "outputs": [
    {
     "name": "stdout",
     "output_type": "stream",
     "text": [
      "blex venceu a corrida\n",
      "temos um vencedor\n"
     ]
    }
   ],
   "source": [
    "#inicia a corrida\n",
    "random.seed()\n",
    "while True:\n",
    "    # movimenta alex\n",
    "    k = random.randrange(5)\n",
    "    alex.fd(k)\n",
    "    alex_passos += k\n",
    "    if alex_passos >= passos:\n",
    "        print(\"alex venceu a corrida\")\n",
    "        n_venc += 1\n",
    "        \n",
    "    k = random.randrange(5)\n",
    "    blex.fd(k)\n",
    "    blex_passos += k\n",
    "    if blex_passos >= passos:\n",
    "        print(\"blex venceu a corrida\")\n",
    "        n_venc += 1\n",
    "        \n",
    "    k = random.randrange(5)\n",
    "    clex.fd(k)\n",
    "    clex_passos += k\n",
    "    if clex_passos >= passos:\n",
    "        print(\"clex venceu a corrida\")\n",
    "        n_venc += 1\n",
    "        \n",
    "    if (n_venc > 0): \n",
    "        break\n",
    "        \n",
    "\n",
    "#temos um ou mais vencedores\n",
    "if (n_venc == 1):\n",
    "    print(\"temos um vencedor\")\n",
    "else: \n",
    "    print(\"houve empate\")"
   ]
  },
  {
   "cell_type": "code",
   "execution_count": null,
   "id": "37d89052",
   "metadata": {},
   "outputs": [],
   "source": []
  }
 ],
 "metadata": {
  "kernelspec": {
   "display_name": "Python 3",
   "language": "python",
   "name": "python3"
  },
  "language_info": {
   "codemirror_mode": {
    "name": "ipython",
    "version": 3
   },
   "file_extension": ".py",
   "mimetype": "text/x-python",
   "name": "python",
   "nbconvert_exporter": "python",
   "pygments_lexer": "ipython3",
   "version": "3.9.1"
  }
 },
 "nbformat": 4,
 "nbformat_minor": 5
}
