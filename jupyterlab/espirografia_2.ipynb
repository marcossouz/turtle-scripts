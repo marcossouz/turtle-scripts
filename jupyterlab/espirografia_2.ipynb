{
 "cells": [
  {
   "cell_type": "code",
   "execution_count": 1,
   "id": "f7f4ad20",
   "metadata": {},
   "outputs": [],
   "source": [
    "import turtle\n",
    "import numpy as np\n",
    "caneta = turtle.Turtle()"
   ]
  },
  {
   "cell_type": "code",
   "execution_count": 14,
   "id": "b2968cb7",
   "metadata": {},
   "outputs": [],
   "source": [
    "R, r, d = 5, 3, 100\n",
    "t = np.linspace(0, np.pi, num=50)\n",
    "\n",
    "caneta.reset()\n",
    "#hipotrocóide\n",
    "x = (R - r) * np.cos(t) + d * np.cos(((R + r) / r) * t)\n",
    "y = (R - r) * np.sin(t) - d * np.sin(((R + r) / r) * t)\n",
    "\n",
    "for i in range(len(x)):\n",
    "    caneta.setpos(x[i], y[i])"
   ]
  },
  {
   "cell_type": "code",
   "execution_count": null,
   "id": "9766e49b",
   "metadata": {},
   "outputs": [],
   "source": []
  }
 ],
 "metadata": {
  "kernelspec": {
   "display_name": "Python 3",
   "language": "python",
   "name": "python3"
  },
  "language_info": {
   "codemirror_mode": {
    "name": "ipython",
    "version": 3
   },
   "file_extension": ".py",
   "mimetype": "text/x-python",
   "name": "python",
   "nbconvert_exporter": "python",
   "pygments_lexer": "ipython3",
   "version": "3.9.5"
  }
 },
 "nbformat": 4,
 "nbformat_minor": 5
}
